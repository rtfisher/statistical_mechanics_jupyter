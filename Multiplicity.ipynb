{
 "cells": [
  {
   "cell_type": "markdown",
   "metadata": {},
   "source": [
    "# <ins>Most Probable Configurations, Entropy, and Temperature</ins>\n",
    "## An Interactive Exercise\n",
    "\n",
    "In this exercise, you will explore the relationships between fundamental concepts of statistical mechanics, including _multiplicity_, _most probable configurations_, _entropy_, and _temperature_. Most crucially, you will develop an intuitive understanding of the concept of _thermal equilibrium_.\n",
    "\n",
    "Let's consider a model system consisting of binary spins, such as individual electrons or atoms with one valence electron. Each spin can be in only one of two possible states: either spin up or spin down. This model is also easily extended to binary mixtures. As we demonstrated in class, elementary probability calculations allow us to enumerate the number of possible states. \n",
    "\n",
    "<img src=\"kittel.jpg\">\n",
    "(From Kittel & Kroemer)"
   ]
  },
  {
   "cell_type": "code",
   "execution_count": 2,
   "metadata": {},
   "outputs": [],
   "source": [
    "#!/usr/bin/python\n",
    "\n",
    "%matplotlib inline\n",
    "\n",
    "import matplotlib.pyplot as plt\n",
    "import multiplicity as mult\n",
    "\n",
    "# Set the figure size using plt.rcParams\n",
    "plt.rcParams['figure.figsize'] = (20, 12)"
   ]
  },
  {
   "cell_type": "markdown",
   "metadata": {},
   "source": [
    "Consider a single system with $N = 10$ spins. What is the range of possible spin excess parameters $2 s = N_{\\uparrow} - N_{\\downarrow}$?\n",
    "\n",
    "Compute each of the values of the multiplicity $\\Omega (N, s) = {N! \\over N_{\\uparrow}! N_{\\downarrow}!}$ using the method mult.multiplicity (N, s) (note that we use $\\Omega$ where Kittel uses $g$). This mult.multiplicity method calculates the multiplicity using a straightforward method, directly calculating the factorials. Do your results agree with the figure from Kittel?"
   ]
  },
  {
   "cell_type": "code",
   "execution_count": 3,
   "metadata": {},
   "outputs": [],
   "source": [
    "N = 10\n",
    "\n",
    "# Complete the arguments in the loop. Be careful to pass only integers through, using the int keyword.\n",
    "# Also pay careful attention to the upper bound of the loop; remember range (x, y) goes over all integers \n",
    "# from x to y - 1, where x and y must both be integers.\n",
    "\n",
    "for s in range ( int (), int ( ) ):\n",
    "  print (mult.multiplicity (N, s))"
   ]
  },
  {
   "cell_type": "markdown",
   "metadata": {},
   "source": [
    "Compute and plot the combined multiplicity $\\Omega (N, s) = \\sum_{s_1 = -N_1/2}^{N_1/2} \\Omega_1 (N_1, s_1) \\Omega_2 (N_2, s_2)$ where $s_1 + s_2 = s$, and $N_1 + N_2 = N$, using the method mult.totalmultiplicity (N1, N2, s). This code directly calculates this summation over all possible configurations consistent with the total spin excess $s$. \n",
    "\n",
    "The plot shows the combined mulitplicity of both systems, as a function of the ratio $s_1 / N_1$. The scalar number output is the summed total $\\Omega (N, s)$. \n",
    "\n",
    "Let's first examine case with spin excess 0, for a relatively small system with $N_1 = 10$ spins, $N_2 = 90$ spins, and _zero_ spin excess: $s = 0$."
   ]
  },
  {
   "cell_type": "code",
   "execution_count": null,
   "metadata": {},
   "outputs": [],
   "source": [
    "N1 = 10\n",
    "N2 = 90\n",
    "s  = 0\n",
    "mult.totalmultiplicity (N1, N2, s)"
   ]
  },
  {
   "cell_type": "markdown",
   "metadata": {},
   "source": [
    "Next, keeping the system size the same ($N_1 = 10$ spins, $N_2 = 90$ spins), increase the spin excess to $s = 10$. What do you find?"
   ]
  },
  {
   "cell_type": "code",
   "execution_count": null,
   "metadata": {},
   "outputs": [],
   "source": []
  },
  {
   "cell_type": "markdown",
   "metadata": {},
   "source": [
    "Next, still keeping the system size the same, increase the spin excess to $s = 20$. What happens to the most probable state? What relationship do you observe for the ratios $s_1 / N_1$ and $s_2 / N_2$ for the most probable state?"
   ]
  },
  {
   "cell_type": "code",
   "execution_count": null,
   "metadata": {},
   "outputs": [],
   "source": []
  },
  {
   "cell_type": "markdown",
   "metadata": {},
   "source": [
    "Now, increase the system size by a factor of 10, to $N_1 = 100$ spins and $N_2 = 900$ spins. Keep the ratio of spin excess to the total number of spins $s / N$, where $N = N_1 + N_2$, the same as in the previous two plots. What happens to both the most probable state, as well as the width of the multiplicity curve?"
   ]
  },
  {
   "cell_type": "code",
   "execution_count": null,
   "metadata": {},
   "outputs": [],
   "source": []
  },
  {
   "cell_type": "markdown",
   "metadata": {},
   "source": [
    "We'd like to explore what happens when we make the system even larger. But what happens when you try to increase the size of the system to $N_1 = 1000$ spins and $N_2 = 9000$ spins?\n",
    "\n",
    "The problem stems from the direct computation of the factorial function $N!$. The factorial function very rapidly grows with increasing $N$, eventually becoming faster than exponential growth. By $N = 180$, we can no longer store the outcome as a float in Python."
   ]
  },
  {
   "cell_type": "code",
   "execution_count": null,
   "metadata": {},
   "outputs": [],
   "source": [
    "for N in range (0 , 190, 10):\n",
    "  print (N, \" N! = \" + '{:.2e}'.format(math.factorial (N) ) )"
   ]
  },
  {
   "cell_type": "markdown",
   "metadata": {},
   "source": [
    "## <ins>Extending the Spin Model to Large N</ins>"
   ]
  },
  {
   "cell_type": "markdown",
   "metadata": {},
   "source": [
    "To handle the enormous number of states accessible to larger $N$ systems, it is convenient to consider the logarithm of the number of states. At a basic level, **the logarithm of the multiplicity times Boltzmann's constant is the entropy** :\n",
    "\n",
    "$$\\sigma = k \\ln \\Omega (N, s).$$\n",
    "\n",
    "Write a method, <code>logfact</code>, which defines the natural log of $N!$ using the Stirling approximation :\n",
    "\n",
    "$$ N!  \\simeq (2 \\pi N)^{1/2} (N / e)^N f (N)$$\n",
    "\n",
    "Here $f (N)$ are the leading terms in the polynomial derived from an asymptotic series approximation ($N \\gg 1$) to the $\\Gamma$ function :\n",
    "\n",
    "$$ f (N) = 1 + a / n + b / n^2 - c / n^3 - d / n^4 $$\n",
    "\n",
    "Here the coefficients are $a = 1/12, b = 1/288, c = 139/51840, d = 571/2488320$ [See the NIST Digital Library of Mathematical Functions, Section 5.11 on Asymptotic Expansions of the Gamma Function](https://dlmf.nist.gov/5.11). The function should be stored in a file, <code>stirling.py</code>, and take the form\n",
    "\n",
    "<code> def logfact (n) : </code>\n",
    "\n",
    "Because the Stirling approximation diverges as $N \\rightarrow 0$, you'll need to treat $N = 0$ a special case. By using the Stirling approximation only when $N > 1$, we ensure that we get exact results for $N = 0$ and $N = 1$ :\n",
    "\n",
    "<code>\n",
    "if (n > 1) :\n",
    " logf = ...\n",
    "  val = ... + ... + logf\n",
    "else :\n",
    "  val = 0\n",
    "\n",
    "return val # return the Stirling approximation for N!\n",
    "</code>"
   ]
  },
  {
   "cell_type": "code",
   "execution_count": null,
   "metadata": {},
   "outputs": [],
   "source": [
    "import stirling\n",
    "import math\n",
    "import matplotlib.pyplot as plt"
   ]
  },
  {
   "cell_type": "markdown",
   "metadata": {},
   "source": [
    "Let's **verify** that our Stirling approximation method works by comparing it against the built-in <code>math.factorial</code> function, which is _exact_. Call the function below, <code>logfacterror</code> with several integer values and explore the magnitude of the error as n increases from $\\sim$ 2 or 3 to 100. It is always a good idea to check the edge cases as well: $n = 0$ and $n = 1$."
   ]
  },
  {
   "cell_type": "code",
   "execution_count": null,
   "metadata": {},
   "outputs": [],
   "source": [
    "def logfacterror (n):\n",
    "\n",
    "    if (isinstance (n, int) == False):\n",
    "      raise Exception (\"n must be an integer.\")\n",
    "    \n",
    "    if (n < 0):\n",
    "      raise Exception (\"n must be positive.\")\n",
    "    \n",
    "    diff = stirling.logfact (n) - math.log (math.factorial (n))\n",
    "    \n",
    "\n",
    "    if (n > 1):\n",
    "      val = diff /  math.log (math.factorial (n) ) \n",
    "      print (\"Fractional error in Stirling approx. to log \", n, \"! = \", val)\n",
    "    else:\n",
    "      val = diff\n",
    "      print (\"Difference error in Stirling approx. to log \", n, \"! = \", val)\n",
    "    \n",
    "    return val"
   ]
  },
  {
   "cell_type": "code",
   "execution_count": null,
   "metadata": {},
   "outputs": [],
   "source": [
    "logfacterror (0); logfacterror (1); logfacterror (2); logfacterror (3)"
   ]
  },
  {
   "cell_type": "markdown",
   "metadata": {},
   "source": [
    "Next, make a plot of the error of the Stirling approximation. We're going to make the plot on __log-log__ axes, since a power-law function $A n^{B}$ is a __straight line__ on a log-log plot. __(Question: Why?)__\n",
    "\n",
    "By inspecting the plot, what is the power-law index $B$ by which the Stirling approximation converges? This index is called __the order of the approximation__."
   ]
  },
  {
   "cell_type": "code",
   "execution_count": null,
   "metadata": {},
   "outputs": [],
   "source": [
    "errorlist = []\n",
    "nlist = []\n",
    "\n",
    "for n in range (2, 100):\n",
    "    val = logfacterror (n)\n",
    "    errorlist.append (abs (val) ) \n",
    "    nlist.append (n)\n",
    "\n",
    "plt.loglog (nlist, errorlist)"
   ]
  },
  {
   "cell_type": "markdown",
   "metadata": {},
   "source": [
    "Now that we're sure our Stirling apprxomation formula works very well, let's get an idea of just how large the number of possible states in a macroscopic system is, by computing the entropy of an Avogadro's number ($6.022 \\times 10^{23}$) of spins in our model system, with zero spin excess $s$ : "
   ]
  },
  {
   "cell_type": "code",
   "execution_count": null,
   "metadata": {},
   "outputs": [],
   "source": [
    "mult.entropy (6.022e23, 0) "
   ]
  },
  {
   "cell_type": "markdown",
   "metadata": {},
   "source": [
    "# Entropy and Irreversibility\n",
    "\n",
    "This entropy for $N_A$ spins is a very large quantity, $4 \\times 10^{23} k$, but the multiplicity of states (which, as you'll recall, is $\\Omega = \\exp (\\sigma / k)$ ) is a truly gargantuan number, $\\exp (4 \\times 10^{23})$, or $\\sim 10^{10^{23} }$. By way of comparison, the total number of all the stars in the entire Hubble volume of the observable universe is a _mere_ $\\sim 10^{20}$, and all particles (photons, electrons, protons, neutrons) in the Hubble volume _only_ $\\sim 10^{80}$. Remember that an Avogadro's number of H is just 1 gram, about the hydrogen content of a large spoonful of H$_2$O. Yet the sheer quantity of total accessible states in even a tiny macroscopic system vastly exceeds the total number of all the particles of the observable universe. \n",
    "\n",
    "In fact the two quantities are not even close. If you were just to write out every zero in the total number of particles in the universe -- $10^{80}$ in 12 point font, it would fit on one line on a page. The full number of accessible states for $N_A$ spins, $10^{10^{23} }$, is such a Brobdingnagian quantity that it almost defies intuition. If you were just to write out every zero in it in 12 point font starting near the center of the Milky Way Galaxy, the full number would extend 10 kiloparsecs -- clear past the solar galactocentric radius, and out into the dim recesses of the Milky Way Halo. \n",
    "\n",
    "The vastness of $\\Omega$ has important ramifications for the second law of thermodynamics. Consider for example a system of $N_A$ spins all set up in a regularly-ordered fashion, one up, one down, and so on. __Question: What's the multiplicity and entropy of this initial state?__\n",
    "\n",
    "Then, let's imagine the system comes to relax thermally to an equilibrium in which the spin excess $s = 0$ still, but in which the spins are all fully random, and that we've lost track of which spins are up and down. Now what's the multplicity and entropy of the final, equilibrium state? They are just $\\sigma = 4 \\times 10^{23} k$, and $\\Omega = \\exp (4 \\times 10^{23})$, or $\\sim 10^{10^{23} }$. \n",
    "\n",
    "__Question : Since all states are equally probable, what is the probability of finding the system in its initial configuration versus the equilibrium state?__\n",
    "\n",
    "It's about as close a value to zero as you might be able to conceive, yet it's not exactly zero. __This is the statistical basis of the Second Law of Thermodynamics__. The underlying laws of physics (either Newton's and Maxwell's laws in the classical realm, or Schrödinger's equation in the quantum regime) are fully reversible, and there is always a small extremely remote chance for the system to return to its initial state. Yet, because the probabilities involved are so fantastically small, the timescales required for the system to recur to an initial, low entropy state vastly exceed the age of the universe. The system will aways be found near the equilibrium configuration, due to the overwhelming multiplicity of the equilibrium configuration."
   ]
  }
 ],
 "metadata": {
  "kernelspec": {
   "display_name": "Python 3 (ipykernel)",
   "language": "python",
   "name": "python3"
  },
  "language_info": {
   "codemirror_mode": {
    "name": "ipython",
    "version": 3
   },
   "file_extension": ".py",
   "mimetype": "text/x-python",
   "name": "python",
   "nbconvert_exporter": "python",
   "pygments_lexer": "ipython3",
   "version": "3.9.6"
  }
 },
 "nbformat": 4,
 "nbformat_minor": 4
}
