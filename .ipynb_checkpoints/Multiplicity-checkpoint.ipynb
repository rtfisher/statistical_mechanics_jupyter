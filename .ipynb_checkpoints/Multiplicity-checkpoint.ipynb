{
 "cells": [
  {
   "cell_type": "markdown",
   "metadata": {},
   "source": [
    "# <ins>Most Probable Configurations, Entropy, and Temperature : An Interactive Exercise</ins>\n",
    "\n",
    "In this exercise, you will explore the relationships between fundamental concepts of statistical mechanics, including _multiplicity_, _most probable configurations_, _entropy_, and _temperature_. Most crucially, you will develop an intuitive understanding of the concept of _thermal equilibrium_.\n",
    "\n",
    "Let's consider a model system consisting of binary spins, such as individual electrons or atoms with one valence electron. Each spin can be in only one of two possible states: either spin up or spin down. This model is also easily extended to binary mixtures. As we demonstrated in class, elementary probability calculations allow us to enumerate the number of possible outcomes. \n",
    "\n",
    "<img src=\"files/kittel.jpg\">\n",
    "(From Kittel & Kroemer)"
   ]
  },
  {
   "cell_type": "code",
   "execution_count": 5,
   "metadata": {},
   "outputs": [
    {
     "name": "stdout",
     "output_type": "stream",
     "text": [
      "Populating the interactive namespace from numpy and matplotlib\n"
     ]
    }
   ],
   "source": [
    "#!/usr/bin/python\n",
    "\n",
    "import matplotlib.pyplot as plt\n",
    "\n",
    "import multiplicity as mult\n",
    "\n",
    "%pylab inline\n",
    "pylab.rcParams['figure.figsize'] = (20, 12)"
   ]
  },
  {
   "cell_type": "markdown",
   "metadata": {},
   "source": [
    "Consider a single system with $N = 10$ spins. What is the range of possible spin excess parameters $s$?\n",
    "\n",
    "Compute each of the values of the multiplicity $g (N, s) = {N! \\over N_{\\uparrow}! N_{\\downarrow}!}$ using the method mult.multiplicity (N, s). This code calculates the multiplicity using a straightforward method, directly calculating the factorials. Do your results agree with the figure from Kittel?"
   ]
  },
  {
   "cell_type": "code",
   "execution_count": null,
   "metadata": {},
   "outputs": [],
   "source": [
    "N = 10\n",
    "\n",
    "# Complete the arguments in the loop. Be careful to pass only integers through, using the int keyword.\n",
    "# Also pay careful attention to the upper bound of the loop.\n",
    "\n",
    "for s in range ( , ):\n",
    "  print (mult.multiplicity (N, s))"
   ]
  },
  {
   "cell_type": "markdown",
   "metadata": {},
   "source": [
    "Compute and plot the combined multiplicity $g (N, s) = \\sum_{s_1 = -N_1/2}^{N_1/2} g_1 (N_1, s_1) g_2 (N_2, s_2)$ where $s_1 + s_2 = s$, and $N_1 + N_2 = N$, using the method mult.totalmultiplicity (N1, N2, s). This code directly calculates this summation over all possible configurations consistent with the total spin excess $s$. \n",
    "\n",
    "The plot shows the combined mulitplicity of both systems, as a function of the ratio $s_1 / N_1$. The scalar number output is the summed total $g (N, s)$. \n",
    "\n",
    "Let's first examine case with spin excess 0, for a relatively small system with $N_1 = 10$ spins, $N_2 = 90$ spins, and _zero_ spin excess: $s = 0$."
   ]
  },
  {
   "cell_type": "code",
   "execution_count": null,
   "metadata": {},
   "outputs": [],
   "source": [
    "N1 = 10\n",
    "N2 = 90\n",
    "s  = 0\n",
    "mult.totalmultiplicity (N1, N2, s)"
   ]
  },
  {
   "cell_type": "markdown",
   "metadata": {},
   "source": [
    "Next, keeping the system size the same ($N_1 = 10$ spins, $N_2 = 90$ spins), increase the spin excess to $s = 10$. What do you find?"
   ]
  },
  {
   "cell_type": "code",
   "execution_count": null,
   "metadata": {},
   "outputs": [],
   "source": []
  },
  {
   "cell_type": "markdown",
   "metadata": {},
   "source": [
    "Next, still keeping the system size the same, increase the spin excess to $s = 20$. What happens to the most probable state? What relationship do you observe for the ratios $s_1 / N_1$ and $s_2 / N_2$ for the most probable state?"
   ]
  },
  {
   "cell_type": "code",
   "execution_count": null,
   "metadata": {},
   "outputs": [],
   "source": []
  },
  {
   "cell_type": "markdown",
   "metadata": {},
   "source": [
    "Now, increase the system size by a factor of 10, to $N_1 = 100$ spins and $N_2 = 900$ spins. Keep the ratio of spin excess to the total number of spins $s / N$, where $N = N_1 + N_2$, the same as in the previous two plots. What happens to both the most probable state, as well as the width of the multiplicity curve?"
   ]
  },
  {
   "cell_type": "code",
   "execution_count": null,
   "metadata": {},
   "outputs": [],
   "source": []
  },
  {
   "cell_type": "markdown",
   "metadata": {},
   "source": [
    "We'd like to explore what happens when we make the system even larger. But what happens when you try to increase the size of the system to $N_1 = 1000$ spins and $N_2 = 9000$ spins?\n",
    "\n",
    "The problem stems from the direct computation of the factorial function $N!$. The factorial function very rapidly grows with increasing $N$, eventually becoming faster than exponential growth. By $N = 180$, we can no longer store the outcome as a float in Python."
   ]
  },
  {
   "cell_type": "code",
   "execution_count": null,
   "metadata": {},
   "outputs": [],
   "source": [
    "for N in range (0 , 190, 10):\n",
    "  print (N, \" N! = \" + '{:.2e}'.format(math.factorial (N) ) )"
   ]
  },
  {
   "cell_type": "markdown",
   "metadata": {},
   "source": [
    "## <ins>Extending the Spin Model to Large N</ins>"
   ]
  },
  {
   "cell_type": "markdown",
   "metadata": {},
   "source": [
    "To handle the enormous number of states accessible to larger $N$ systems, it is convenient to consider the logarithm of the number of states. At a basic level, **the logarithm of the multiplicity is the entropy** $$\\sigma = \\ln g (N, s)$$.\n",
    "\n",
    "Write a method, <code>logfact</code>, which defines the natural log of $N!$ using the Stirling approximation :\n",
    "\n",
    "$$ N!  \\simeq (2 \\pi N)^{1/2} (N / e)^N f (N)$$\n",
    "\n",
    "Here $f (N)$ are the leading terms in the polynomial derived from an asymptotic series approximation ($N \\gg 1$) to the $\\Gamma$ function :\n",
    "\n",
    "$$ f (N) = 1 + a / n + b / n^2 - c / n^3 - d / n^4 $$\n",
    "\n",
    "Here the coefficients are $a = 1/12, b = 1/288, c = 139/51840, d = 571/2488320$. The function should be stored in a file, <code>stirling.py</code>, and take the form\n",
    "\n",
    "<code> def logfact (n) : </code>\n",
    "\n",
    "Because the Stirling approximation diverges as $N \\rightarrow 0$, you'll need to make $N = 0$ a special case :\n",
    "\n",
    "<code>\n",
    "if (n != 0) :\n",
    " logf = ...\n",
    "  val = ... + ... + logf\n",
    "else :\n",
    "  val = 0\n",
    "\n",
    "return val # return the Stirling approximation for N!\n",
    "</code>"
   ]
  },
  {
   "cell_type": "code",
   "execution_count": null,
   "metadata": {},
   "outputs": [],
   "source": [
    "import stirling\n",
    "import math\n",
    "import matplotlib.pyplot as plt"
   ]
  },
  {
   "cell_type": "markdown",
   "metadata": {},
   "source": [
    "Let's **verify** that our Stirling approximation method works by comparing it against the built-in <code>math.factorial</code> function, which is _exact_. Call the function below, <code>logfacterror</code> with several integer values and explore the magnitude of the error as n increases from $\\sim$ 2 or 3 to 100. It is always a good idea to check the edge cases as well: $n = 0$ and $n = 1$."
   ]
  },
  {
   "cell_type": "code",
   "execution_count": null,
   "metadata": {},
   "outputs": [],
   "source": [
    "def logfacterror (n):\n",
    "\n",
    "    if (isinstance (n, int) == False):\n",
    "      raise Exception (\"n must be an integer.\")\n",
    "    \n",
    "    if (n < 0):\n",
    "      raise Exception (\"n must be positive.\")\n",
    "    \n",
    "    diff = stirling.logfact (n) - math.log (math.factorial (n))\n",
    "    \n",
    "    if (n > 1):\n",
    "      print (\"Fractional error in Stirling approx. to log factorial = \", diff /  math.log (math.factorial (n) ) )\n",
    "    else:\n",
    "      print (\"Difference error in Stirling approx. = \", diff)"
   ]
  },
  {
   "cell_type": "code",
   "execution_count": null,
   "metadata": {},
   "outputs": [],
   "source": [
    "logfacterror (1)"
   ]
  },
  {
   "cell_type": "code",
   "execution_count": null,
   "metadata": {},
   "outputs": [],
   "source": [
    "errorlist = []\n",
    "nlist = []\n",
    "\n",
    "for n in range (2, 50):\n",
    "    val = logfacterror (n)\n",
    "    errorlist.append (abs (n) ) \n",
    "    nlist.append (n)\n",
    "\n",
    "plt.semilogy (nlist, errorlist)"
   ]
  },
  {
   "cell_type": "markdown",
   "metadata": {},
   "source": [
    "Now, let's get an idea of just how large the number of possible states in a macroscopic system is, by computing the entropy of an Avogadro's number ($6.022 \\times 10^{23}$) of spins in our model system, with zero spin excess $s$ : "
   ]
  },
  {
   "cell_type": "code",
   "execution_count": 28,
   "metadata": {},
   "outputs": [
    {
     "data": {
      "text/plain": [
       "1.8128026338885016e+23"
      ]
     },
     "execution_count": 28,
     "metadata": {},
     "output_type": "execute_result"
    }
   ],
   "source": [
    "mult.entropy (6.022e23, 0) "
   ]
  },
  {
   "cell_type": "markdown",
   "metadata": {},
   "source": [
    "# Entropy and Irreversibility\n",
    "\n",
    "This entropy for $N_A$ spins is a very large number, $1.8 \\times 10^{23}$, but the multiplicity of states (which, as you'll recall, is $g = \\exp (\\sigma)$ ) is a truly gargantuan number, $\\exp (1.8 \\times 10^{23})$, or $\\sim 10^{10^{23} }$. By way of comparison, the total number of all the stars in the entire Hubble volume of the observable universe is a _mere_ $\\sim 10^{20}$, and all particles (photons, electrons, protons, neutrons) in the Hubble volume _only_ $\\sim 10^{80}$. Remember that an Avogadro's number of H is just 1 gram, less than the hydrogen content in a teaspoon of H$_2$O. Yet the sheer quantity of accessible states in even a tiny macroscopic system vastly exceeds the total number of all the particles of the observable universe. In fact the two quantities are not even close.\n",
    "\n",
    "The vastness of $g$ has important ramifications for the second law of thermodynamics. Consider for example a system of $N_A$ spins all set up in a regularly-ordered fashion, one up, one down, and so on. What's the multiplicity and entropy of this initial state?\n",
    "\n",
    "Then, let's imagine the system comes to relax thermally to an equilibrium in which the spin excess $s = 0$ still, but in which the spins are all fully random, and that we've lost track of which spins are up and down. Now what's the multplicity and entropy of the final, equilibrium state? They are just $\\sigma = 1.8 \\times 10^{23}$, and $g = \\exp (1.8 \\times 10^{23})$, or $\\sim 10^{10^{23} }$. \n",
    "\n",
    "Since all states are equally probable, the probability of finding the system in its initial configuration versus the equilibrium state is \n",
    "\n",
    "P (initial) / P (equilibrium) = g (initial) / g (equilibrium) = 41 / 10^{10^{23} } = 10^{10^{-23} $."
   ]
  },
  {
   "cell_type": "code",
   "execution_count": 27,
   "metadata": {},
   "outputs": [
    {
     "data": {
      "image/png": "[encoded data removed]",
      "text/plain": [
       "<Figure size 1440x864 with 1 Axes>"
      ]
     },
     "metadata": {
      "needs_background": "light"
     },
     "output_type": "display_data"
    }
   ],
   "source": [
    "N = 100.\n",
    "\n",
    "logslist = []\n",
    "entropylist = []\n",
    "\n",
    "g0 = mult.gaussentropy (N, 0)\n",
    "\n",
    "for i in range (0, 100) :\n",
    "    fac = math.exp (-10 + (i / 10) )\n",
    "    entropy = mult.gaussentropy (N, fac * N) # call with spin excess = fac N\n",
    "    entropylist.append (entropy / g0)\n",
    "    logslist.append (math.log (fac) ) \n",
    "    \n",
    "plt.plot (logslist, entropylist)\n",
    "plt.xlabel('log $s / N$', fontsize=30)\n",
    "plt.ylabel('Entropy $\\sigma (N, s) / \\sigma (N, 0)$', fontsize=30)\n",
    "plt.grid(b=True, which='major', color='DarkTurquoise', alpha=0.4, linestyle=':', linewidth=2)\n",
    "plt.minorticks_on()\n",
    "plt.grid(b=True, which='minor', color='beige', alpha=0.2, linestyle='-', linewidth=2)"
   ]
  },
  {
   "cell_type": "code",
   "execution_count": null,
   "metadata": {},
   "outputs": [],
   "source": []
  }
 ],
 "metadata": {
  "kernelspec": {
   "display_name": "Python 3",
   "language": "python",
   "name": "python3"
  },
  "language_info": {
   "codemirror_mode": {
    "name": "ipython",
    "version": 3
   },
   "file_extension": ".py",
   "mimetype": "text/x-python",
   "name": "python",
   "nbconvert_exporter": "python",
   "pygments_lexer": "ipython3",
   "version": "3.8.5"
  }
 },
 "nbformat": 4,
 "nbformat_minor": 4
}
